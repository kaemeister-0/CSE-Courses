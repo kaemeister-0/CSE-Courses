{
 "cells": [
  {
   "cell_type": "code",
   "execution_count": 1,
   "metadata": {},
   "outputs": [
    {
     "name": "stdout",
     "output_type": "stream",
     "text": [
      "1010101\n"
     ]
    }
   ],
   "source": [
    "import random\n",
    "   \n",
    "\n",
    "def generate_population(population_size, chromosome_length):\n",
    "    population = []\n",
    "    for i in range(population_size):\n",
    "        chromosome = [random.randint(0, 1) for j in range(chromosome_length)]\n",
    "        population.append(chromosome)\n",
    "    return population\n",
    "\n",
    "def fitness_function(chromosome, transactions):\n",
    "    total = 0\n",
    "    for i in range(len(chromosome)):\n",
    "        if chromosome[i] == 1:\n",
    "            if transactions[i][0] == 'l':\n",
    "                total -= transactions[i][1]\n",
    "            else:\n",
    "                total += transactions[i][1]\n",
    "    return total if total != 0 else -1\n",
    "\n",
    "def crossover(parent1, parent2):\n",
    "    crossover_point = random.randint(1, len(parent1) - 1)\n",
    "    offspring1 = parent1[:crossover_point] + parent2[crossover_point:]\n",
    "    offspring2 = parent2[:crossover_point] + parent1[crossover_point:]\n",
    "    return offspring1, offspring2\n",
    "\n",
    "def mutation(chromosome, mutation_probability):\n",
    "    for i in range(len(chromosome)):\n",
    "        if random.random() < mutation_probability:\n",
    "            chromosome[i] = 1 - chromosome[i]\n",
    "    return chromosome\n",
    "\n",
    "def select_best(population, fitness_fn):\n",
    "    best_fitness = fitness_fn(population[0])\n",
    "    best_chromosome = population[0]\n",
    "    for chromosome in population:\n",
    "        fitness = fitness_fn(chromosome)\n",
    "        if fitness > best_fitness:\n",
    "            best_fitness = fitness\n",
    "            best_chromosome = chromosome\n",
    "    return best_chromosome, best_fitness\n",
    "\n",
    "def genetic_algorithm(transactions, population_size=100, chromosome_length=None, mutation_probability=0.1, max_iterations=1000, fitness_threshold=None):\n",
    "    if chromosome_length is None:\n",
    "        chromosome_length = len(transactions)\n",
    "    population = generate_population(population_size, chromosome_length)\n",
    "    for i in range(max_iterations):\n",
    "        new_population = []\n",
    "        for j in range(int(population_size/2)):\n",
    "            parent1 = random.choice(population)\n",
    "            parent2 = random.choice(population)\n",
    "            offspring1, offspring2 = crossover(parent1, parent2)\n",
    "            offspring1 = mutation(offspring1, mutation_probability)\n",
    "            offspring2 = mutation(offspring2, mutation_probability)\n",
    "            new_population.append(offspring1)\n",
    "            new_population.append(offspring2)\n",
    "        population = new_population\n",
    "        best_chromosome, best_fitness = select_best(population, lambda x: fitness_function(x, transactions))\n",
    "        if fitness_threshold is not None and best_fitness >= fitness_threshold:\n",
    "            return best_chromosome\n",
    "    return best_chromosome\n",
    "transactions = [('l', 120), ('l', 289), ('d', 475), ('l', 195), ('d', 6482), ('l', 160), ('d', 935)]\n",
    "result = genetic_algorithm(transactions)\n",
    "if result is not None:\n",
    "    print(''.join(str(bit) for bit in result))\n",
    "else:\n",
    "    print('-1')"
   ]
  }
 ],
 "metadata": {
  "kernelspec": {
   "display_name": "base",
   "language": "python",
   "name": "python3"
  },
  "language_info": {
   "codemirror_mode": {
    "name": "ipython",
    "version": 3
   },
   "file_extension": ".py",
   "mimetype": "text/x-python",
   "name": "python",
   "nbconvert_exporter": "python",
   "pygments_lexer": "ipython3",
   "version": "3.8.8"
  },
  "orig_nbformat": 4
 },
 "nbformat": 4,
 "nbformat_minor": 2
}
